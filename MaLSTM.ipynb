{
 "cells": [
  {
   "cell_type": "markdown",
   "metadata": {},
   "source": [
    "# MaLSTM on Kaggle's Quora Question Pairs"
   ]
  },
  {
   "cell_type": "markdown",
   "metadata": {},
   "source": [
    "This notebook is about implementing the MaLSTM model (http://www.mit.edu/~jonasm/info/MuellerThyagarajan_AAAI16.pdf) on Kaggle's Quora Question Pairs data.\n",
    "\n",
    "Blog post containing a broader explanation about the network can be found in the following link https://medium.com/@eliorcohen/implementing-malstm-on-kaggles-quora-question-pairs-competition-8b31b0b16a07\n"
   ]
  },
  {
   "cell_type": "markdown",
   "metadata": {},
   "source": [
    "# CODE"
   ]
  },
  {
   "cell_type": "markdown",
   "metadata": {},
   "source": [
    "First, lets import all the necessary packages"
   ]
  },
  {
   "cell_type": "code",
   "execution_count": 1,
   "metadata": {},
   "outputs": [
    {
     "name": "stderr",
     "output_type": "stream",
     "text": [
      "Slow version of gensim.models.doc2vec is being used\n",
      "Using TensorFlow backend.\n",
      "/usr/lib64/python3.6/site-packages/h5py/__init__.py:36: FutureWarning: Conversion of the second argument of issubdtype from `float` to `np.floating` is deprecated. In future, it will be treated as `np.float64 == np.dtype(float).type`.\n",
      "  from ._conv import register_converters as _register_converters\n"
     ]
    }
   ],
   "source": [
    "from time import time\n",
    "import pandas as pd\n",
    "import numpy as np\n",
    "from gensim.models import KeyedVectors\n",
    "import re\n",
    "from nltk.corpus import stopwords\n",
    "from sklearn.model_selection import train_test_split\n",
    "import matplotlib.pyplot as plt\n",
    "import seaborn as sns\n",
    "\n",
    "import itertools\n",
    "import datetime\n",
    "\n",
    "from keras.preprocessing.sequence import pad_sequences\n",
    "from keras.models import Model\n",
    "from keras.layers import Input, Embedding, LSTM, Merge\n",
    "import keras.backend as K\n",
    "from keras.optimizers import Adadelta\n",
    "from keras.callbacks import ModelCheckpoint"
   ]
  },
  {
   "cell_type": "markdown",
   "metadata": {},
   "source": [
    "Create embedding matrix"
   ]
  },
  {
   "cell_type": "code",
   "execution_count": 2,
   "metadata": {},
   "outputs": [],
   "source": [
    "EMBEDDING_FILE = '/root/Downloads/GoogleNews-vectors-negative300.bin.gz'\n",
    "\n",
    "stops = set(stopwords.words('english'))\n",
    "\n",
    "def text_to_word_list(text):\n",
    "    ''' Pre process and convert texts to a list of words '''\n",
    "    text = str(text)\n",
    "    text = text.lower()\n",
    "\n",
    "    # Clean the text\n",
    "    text = re.sub(r\"[^A-Za-z0-9^,!.\\/'+-=]\", \" \", text)\n",
    "    text = re.sub(r\"what's\", \"what is \", text)\n",
    "    text = re.sub(r\"\\'s\", \" \", text)\n",
    "    text = re.sub(r\"\\'ve\", \" have \", text)\n",
    "    text = re.sub(r\"can't\", \"cannot \", text)\n",
    "    text = re.sub(r\"n't\", \" not \", text)\n",
    "    text = re.sub(r\"i'm\", \"i am \", text)\n",
    "    text = re.sub(r\"\\'re\", \" are \", text)\n",
    "    text = re.sub(r\"\\'d\", \" would \", text)\n",
    "    text = re.sub(r\"\\'ll\", \" will \", text)\n",
    "    text = re.sub(r\",\", \" \", text)\n",
    "    text = re.sub(r\"\\.\", \" \", text)\n",
    "    text = re.sub(r\"!\", \" ! \", text)\n",
    "    text = re.sub(r\"\\/\", \" \", text)\n",
    "    text = re.sub(r\"\\^\", \" ^ \", text)\n",
    "    text = re.sub(r\"\\+\", \" + \", text)\n",
    "    text = re.sub(r\"\\-\", \" - \", text)\n",
    "    text = re.sub(r\"\\=\", \" = \", text)\n",
    "    text = re.sub(r\"'\", \" \", text)\n",
    "    text = re.sub(r\"(\\d+)(k)\", r\"\\g<1>000\", text)\n",
    "    text = re.sub(r\":\", \" : \", text)\n",
    "    text = re.sub(r\" e g \", \" eg \", text)\n",
    "    text = re.sub(r\" b g \", \" bg \", text)\n",
    "    text = re.sub(r\" u s \", \" american \", text)\n",
    "    text = re.sub(r\"\\0s\", \"0\", text)\n",
    "    text = re.sub(r\" 9 11 \", \"911\", text)\n",
    "    text = re.sub(r\"e - mail\", \"email\", text)\n",
    "    text = re.sub(r\"j k\", \"jk\", text)\n",
    "    text = re.sub(r\"\\s{2,}\", \" \", text)\n",
    "\n",
    "    text = text.split()\n",
    "\n",
    "    return text\n",
    "\n",
    "# Prepare embedding\n",
    "vocabulary = dict()\n",
    "inverse_vocabulary = ['<unk>']  # '<unk>' will never be used, it is only a placeholder for the [0, 0, ....0] embedding\n",
    "word2vec = KeyedVectors.load_word2vec_format(EMBEDDING_FILE, binary=True)"
   ]
  },
  {
   "cell_type": "code",
   "execution_count": 3,
   "metadata": {},
   "outputs": [
    {
     "name": "stderr",
     "output_type": "stream",
     "text": [
      "/usr/lib/python3.6/site-packages/IPython/core/interactiveshell.py:2728: DtypeWarning: Columns (0) have mixed types. Specify dtype option on import or set low_memory=False.\n",
      "  interactivity=interactivity, compiler=compiler, result=result)\n"
     ]
    }
   ],
   "source": [
    "# File paths\n",
    "TRAIN_CSV = '../mpcnn/train.csv'\n",
    "TEST_CSV = '../mpcnn/test.csv'\n",
    "\n",
    "# Load training and test set\n",
    "train_df = pd.read_csv(TRAIN_CSV)\n",
    "test_df = pd.read_csv(TEST_CSV)"
   ]
  },
  {
   "cell_type": "code",
   "execution_count": 4,
   "metadata": {},
   "outputs": [
    {
     "name": "stderr",
     "output_type": "stream",
     "text": [
      "  0%|          | 0/3967765 [00:00<?, ?it/s]/usr/lib/python3.6/site-packages/ipykernel_launcher.py:29: FutureWarning: set_value is deprecated and will be removed in a future release. Please use .at[] or .iat[] accessors instead\n",
      "100%|██████████| 3967765/3967765 [13:21<00:00, 4949.03it/s]\n"
     ]
    }
   ],
   "source": [
    "from tqdm import tqdm\n",
    "\n",
    "questions_cols = ['question1', 'question2']\n",
    "\n",
    "# Iterate over the questions only of both training and test datasets\n",
    "with tqdm(total=len(train_df)+len(test_df)) as pbar:\n",
    "    for dataset in [train_df, test_df]:\n",
    "        for index, row in dataset.iterrows():\n",
    "            pbar.update(1)\n",
    "\n",
    "            # Iterate through the text of both questions of the row\n",
    "            for question in questions_cols:\n",
    "\n",
    "                q2n = []  # q2n -> question numbers representation\n",
    "                for word in text_to_word_list(row[question]):\n",
    "\n",
    "                    # Check for unwanted words\n",
    "                    if word in stops and word not in word2vec.vocab:\n",
    "                        continue\n",
    "\n",
    "                    if word not in vocabulary:\n",
    "                        vocabulary[word] = len(inverse_vocabulary)\n",
    "                        q2n.append(len(inverse_vocabulary))\n",
    "                        inverse_vocabulary.append(word)\n",
    "                    else:\n",
    "                        q2n.append(vocabulary[word])\n",
    "\n",
    "                # Replace questions as word to question as number representation\n",
    "                dataset.set_value(index, question, q2n)"
   ]
  },
  {
   "cell_type": "code",
   "execution_count": 5,
   "metadata": {},
   "outputs": [
    {
     "name": "stderr",
     "output_type": "stream",
     "text": [
      "100%|██████████| 15181/15181 [00:00<00:00, 22935.21it/s]\n"
     ]
    }
   ],
   "source": [
    "# Iterate over the custom argument components dataset\n",
    "import pickle\n",
    "domains=[\"abortion\",\"gayRights\",\"obama\",\"marijuana\"]\n",
    "\n",
    "sentence_embedding_idx_storage={}\n",
    "\n",
    "# calculate total sentences\n",
    "total_sent=0\n",
    "for domain in domains:\n",
    "    sentences_storage=pickle.load(open(\"../../\"+domain+\".customCorpus.post.sentences.pickle\",\"rb\"))\n",
    "    for post,sentences in sentences_storage.items():\n",
    "        total_sent+=len(sentences)\n",
    "\n",
    "# start create word embedding\n",
    "with tqdm(total=total_sent) as pbar:\n",
    "    for domain in domains:\n",
    "        # load dataset sentence storage\n",
    "        sentences_storage=pickle.load(open(\"../../\"+domain+\".customCorpus.post.sentences.pickle\",\"rb\"))\n",
    "        for post,sentences in sentences_storage.items():            \n",
    "            sentence_embedding_idx_storage[post]=[]\n",
    "\n",
    "            for sentence in sentences:\n",
    "                pbar.update(1)                \n",
    "                q2n = []  # q2n -> question numbers representation\n",
    "\n",
    "                # get sentence vector index representation\n",
    "                for word in text_to_word_list(sentence):\n",
    "\n",
    "                    # Check for unwanted words\n",
    "                    if word in stops and word not in word2vec.vocab:\n",
    "                        continue\n",
    "\n",
    "                    if word not in vocabulary:\n",
    "                        vocabulary[word] = len(inverse_vocabulary)\n",
    "                        q2n.append(len(inverse_vocabulary))\n",
    "                        inverse_vocabulary.append(word)\n",
    "                    else:\n",
    "                        q2n.append(vocabulary[word])\n",
    "\n",
    "                # store index representation\n",
    "                sentence_embedding_idx_storage[post].append(q2n)"
   ]
  },
  {
   "cell_type": "code",
   "execution_count": 6,
   "metadata": {},
   "outputs": [
    {
     "name": "stdout",
     "output_type": "stream",
     "text": [
      "marijuana\n",
      "[21, 47, 3127, 47, 171, 307, 164, 36, 418, 47, 418, 192, 1895, 47, 483, 47, 171, 47, 164, 36, 418, 1761]\n",
      "[386, 225, 4621, 20832, 167, 3, 147, 4348, 29233, 16, 300, 47, 73202, 4140, 77, 418, 192, 19, 2349, 100, 47]\n",
      "[1000, 27, 312, 344, 47, 1220, 21, 47, 3127, 148, 164, 344, 1376, 418, 47]\n",
      "[307, 164, 36, 483, 310, 47, 289, 47, 27, 36, 12084]\n",
      "[2349, 47, 455, 36, 10223]\n",
      "[228, 2353, 536, 4921, 307, 2, 483, 310, 47, 1450, 47, 27, 36, 12084, 1450]\n",
      "[47, 19, 4100, 36, 10223, 10166, 21, 47, 653, 3127, 192, 27, 2500, 290, 313, 15621, 1220, 148, 284, 85, 606, 2213, 901, 453]\n",
      "[2844, 2844, 251, 19, 36, 425, 475, 9544, 18687]\n",
      "[34, 3, 25334, 2475, 2, 212, 95, 1774, 289, 148, 27, 20628, 3, 25334, 2475, 3, 3377, 91, 3, 841, 15, 49804, 678]\n",
      "[212, 1737, 47, 3766, 47, 284, 212, 536, 95]\n",
      "[418, 192, 274, 55297, 418, 5438, 171, 3, 1846, 606, 1702, 715, 639]\n",
      "[16, 743, 100, 3, 228, 11047, 860, 4348, 167, 2269]\n",
      "[25409, 164, 605, 6506, 458, 245, 357, 47, 21, 47, 5793, 162, 1049]\n",
      "[21, 99, 313, 1091, 19, 99, 1002, 208, 416, 2, 1272, 11216, 17191]\n",
      "[483, 57, 27033, 99, 246]\n",
      "[1220, 307, 115, 12198, 192, 416, 7589, 2376, 4062, 284, 715, 340, 161, 3, 235, 16, 97, 212, 128, 47, 536, 4041, 654, 1049]\n"
     ]
    }
   ],
   "source": [
    "# preview content\n",
    "print(domain)\n",
    "for post,sentences in sentence_embedding_idx_storage.items():\n",
    "    for sentence in sentences:\n",
    "        print(sentence)\n",
    "    break"
   ]
  },
  {
   "cell_type": "code",
   "execution_count": 7,
   "metadata": {},
   "outputs": [
    {
     "name": "stderr",
     "output_type": "stream",
     "text": [
      "100%|██████████| 122802/122802 [00:00<00:00, 469250.80it/s]\n"
     ]
    }
   ],
   "source": [
    "# Build the embedding matrix\n",
    "\n",
    "embedding_dim = 300\n",
    "embeddings = 1 * np.random.randn(len(vocabulary) + 1, embedding_dim)  # This will be the embedding matrix\n",
    "embeddings[0] = 0  # So that the padding will be ignored\n",
    "\n",
    "with tqdm(total=len(vocabulary)) as pbar:\n",
    "    for word, index in vocabulary.items():\n",
    "        pbar.update(1)\n",
    "        if word in word2vec.vocab:\n",
    "            embeddings[index] = word2vec.word_vec(word)"
   ]
  },
  {
   "cell_type": "markdown",
   "metadata": {},
   "source": [
    "Prepare training and validation data"
   ]
  },
  {
   "cell_type": "code",
   "execution_count": 8,
   "metadata": {},
   "outputs": [
    {
     "name": "stdout",
     "output_type": "stream",
     "text": [
      "40429\n"
     ]
    }
   ],
   "source": [
    "max_seq_length = max(train_df.question1.map(lambda x: len(x)).max(),\n",
    "                     train_df.question2.map(lambda x: len(x)).max(),\n",
    "                     test_df.question1.map(lambda x: len(x)).max(),\n",
    "                     test_df.question2.map(lambda x: len(x)).max())\n",
    "\n",
    "# Split to train validation\n",
    "validation_size = int(len(train_df)*0.1)\n",
    "print(validation_size)\n",
    "training_size = len(train_df) - validation_size\n",
    "\n",
    "X = train_df[questions_cols]\n",
    "Y = train_df['is_duplicate']\n",
    "\n",
    "X_train, X_validation, Y_train, Y_validation = train_test_split(X, Y, test_size=validation_size)\n",
    "\n",
    "# Split to dicts\n",
    "X_train = {'left': X_train.question1, 'right': X_train.question2}\n",
    "X_validation = {'left': X_validation.question1, 'right': X_validation.question2}\n",
    "X_test = {'left': test_df.question1, 'right': test_df.question2}\n",
    "\n",
    "# Convert labels to their numpy representations\n",
    "Y_train = Y_train.values\n",
    "Y_validation = Y_validation.values\n",
    "\n",
    "# Zero padding\n",
    "for dataset, side in itertools.product([X_train, X_validation], ['left', 'right']):\n",
    "    dataset[side] = pad_sequences(dataset[side], maxlen=max_seq_length)\n",
    "\n",
    "# Make sure everything is ok\n",
    "assert X_train['left'].shape == X_train['right'].shape\n",
    "assert len(X_train['left']) == len(Y_train)"
   ]
  },
  {
   "cell_type": "markdown",
   "metadata": {},
   "source": [
    "Build the model"
   ]
  },
  {
   "cell_type": "code",
   "execution_count": 9,
   "metadata": {},
   "outputs": [
    {
     "name": "stdout",
     "output_type": "stream",
     "text": [
      "Train on 363861 samples, validate on 40429 samples\n",
      "Epoch 1/25\n",
      "363861/363861 [==============================] - 89s - loss: 0.2338 - acc: 0.6817 - val_loss: 0.2149 - val_acc: 0.7006\n",
      "Epoch 2/25\n",
      "363861/363861 [==============================] - 89s - loss: 0.2104 - acc: 0.7012 - val_loss: 0.2066 - val_acc: 0.7056\n",
      "Epoch 3/25\n",
      "363861/363861 [==============================] - 89s - loss: 0.2019 - acc: 0.7069 - val_loss: 0.1975 - val_acc: 0.7121\n",
      "Epoch 4/25\n",
      "363861/363861 [==============================] - 89s - loss: 0.1952 - acc: 0.7125 - val_loss: 0.1912 - val_acc: 0.7177\n",
      "Epoch 5/25\n",
      "363861/363861 [==============================] - 89s - loss: 0.1886 - acc: 0.7193 - val_loss: 0.1868 - val_acc: 0.7246\n",
      "Epoch 6/25\n",
      "363861/363861 [==============================] - 89s - loss: 0.1841 - acc: 0.7260 - val_loss: 0.1825 - val_acc: 0.7300\n",
      "Epoch 7/25\n",
      "363861/363861 [==============================] - 90s - loss: 0.1807 - acc: 0.7321 - val_loss: 0.1795 - val_acc: 0.7363\n",
      "Epoch 8/25\n",
      "363861/363861 [==============================] - 89s - loss: 0.1778 - acc: 0.7375 - val_loss: 0.1772 - val_acc: 0.7416\n",
      "Epoch 9/25\n",
      "363861/363861 [==============================] - 89s - loss: 0.1755 - acc: 0.7421 - val_loss: 0.1773 - val_acc: 0.7377\n",
      "Epoch 10/25\n",
      "363861/363861 [==============================] - 89s - loss: 0.1736 - acc: 0.7459 - val_loss: 0.1736 - val_acc: 0.7481\n",
      "Epoch 11/25\n",
      "363861/363861 [==============================] - 89s - loss: 0.1719 - acc: 0.7496 - val_loss: 0.1723 - val_acc: 0.7515\n",
      "Epoch 12/25\n",
      "363861/363861 [==============================] - 89s - loss: 0.1704 - acc: 0.7527 - val_loss: 0.1710 - val_acc: 0.7541\n",
      "Epoch 13/25\n",
      "363861/363861 [==============================] - 89s - loss: 0.1691 - acc: 0.7562 - val_loss: 0.1701 - val_acc: 0.7561\n",
      "Epoch 14/25\n",
      "363861/363861 [==============================] - 89s - loss: 0.1679 - acc: 0.7586 - val_loss: 0.1688 - val_acc: 0.7597\n",
      "Epoch 15/25\n",
      "363861/363861 [==============================] - 89s - loss: 0.1667 - acc: 0.7608 - val_loss: 0.1679 - val_acc: 0.7616\n",
      "Epoch 16/25\n",
      "363861/363861 [==============================] - 89s - loss: 0.1658 - acc: 0.7627 - val_loss: 0.1678 - val_acc: 0.7638\n",
      "Epoch 17/25\n",
      "363861/363861 [==============================] - 89s - loss: 0.1648 - acc: 0.7649 - val_loss: 0.1661 - val_acc: 0.7643\n",
      "Epoch 18/25\n",
      "363861/363861 [==============================] - 89s - loss: 0.1639 - acc: 0.7668 - val_loss: 0.1659 - val_acc: 0.7641\n",
      "Epoch 19/25\n",
      "363861/363861 [==============================] - 89s - loss: 0.1631 - acc: 0.7687 - val_loss: 0.1651 - val_acc: 0.7652\n",
      "Epoch 20/25\n",
      "363861/363861 [==============================] - 89s - loss: 0.1623 - acc: 0.7702 - val_loss: 0.1653 - val_acc: 0.7624\n",
      "Epoch 21/25\n",
      "363861/363861 [==============================] - 89s - loss: 0.1616 - acc: 0.7718 - val_loss: 0.1636 - val_acc: 0.7706\n",
      "Epoch 22/25\n",
      "363861/363861 [==============================] - 89s - loss: 0.1609 - acc: 0.7731 - val_loss: 0.1635 - val_acc: 0.7667\n",
      "Epoch 23/25\n",
      "363861/363861 [==============================] - 89s - loss: 0.1603 - acc: 0.7742 - val_loss: 0.1623 - val_acc: 0.7715\n",
      "Epoch 24/25\n",
      "363861/363861 [==============================] - 89s - loss: 0.1596 - acc: 0.7754 - val_loss: 0.1622 - val_acc: 0.7745\n",
      "Epoch 25/25\n",
      "363861/363861 [==============================] - 89s - loss: 0.1590 - acc: 0.7769 - val_loss: 0.1616 - val_acc: 0.7700\n",
      "Training time finished.\n",
      "25 epochs in 0:37:24.198240\n"
     ]
    }
   ],
   "source": [
    "# Model variables\n",
    "n_hidden = 50\n",
    "gradient_clipping_norm = 1.25\n",
    "batch_size = 3072\n",
    "n_epoch = 25\n",
    "\n",
    "def exponent_neg_manhattan_distance(left, right):\n",
    "    ''' Helper function for the similarity estimate of the LSTMs outputs'''\n",
    "    return K.exp(-K.sum(K.abs(left-right), axis=1, keepdims=True))\n",
    "\n",
    "# The visible layer\n",
    "left_input = Input(shape=(max_seq_length,), dtype='int32')\n",
    "right_input = Input(shape=(max_seq_length,), dtype='int32')\n",
    "\n",
    "embedding_layer = Embedding(len(embeddings), embedding_dim, weights=[embeddings], input_length=max_seq_length, trainable=False)\n",
    "\n",
    "# Embedded version of the inputs\n",
    "encoded_left = embedding_layer(left_input)\n",
    "encoded_right = embedding_layer(right_input)\n",
    "\n",
    "# Since this is a siamese network, both sides share the same LSTM\n",
    "shared_lstm = LSTM(n_hidden)\n",
    "\n",
    "left_output = shared_lstm(encoded_left)\n",
    "right_output = shared_lstm(encoded_right)\n",
    "\n",
    "# Calculates the distance as defined by the MaLSTM model\n",
    "malstm_distance = Merge(mode=lambda x: exponent_neg_manhattan_distance(x[0], x[1]), output_shape=lambda x: (x[0][0], 1))([left_output, right_output])\n",
    "\n",
    "# Pack it all up into a model\n",
    "malstm = Model([left_input, right_input], [malstm_distance])\n",
    "\n",
    "# Adadelta optimizer, with gradient clipping by norm\n",
    "optimizer = Adadelta(clipnorm=gradient_clipping_norm)\n",
    "\n",
    "malstm.compile(loss='mean_squared_error', optimizer=optimizer, metrics=['accuracy'])\n",
    "\n",
    "# Start training\n",
    "training_start_time = time()\n",
    "\n",
    "malstm_trained = malstm.fit([X_train['left'], X_train['right']], Y_train, batch_size=batch_size, nb_epoch=n_epoch,\n",
    "                            validation_data=([X_validation['left'], X_validation['right']], Y_validation))\n",
    "\n",
    "print(\"Training time finished.\\n{} epochs in {}\".format(n_epoch, datetime.timedelta(seconds=time()-training_start_time)))"
   ]
  },
  {
   "cell_type": "markdown",
   "metadata": {},
   "source": [
    "Plotting the results"
   ]
  },
  {
   "cell_type": "code",
   "execution_count": 10,
   "metadata": {},
   "outputs": [
    {
     "data": {
      "image/png": "[encoded data removed]",
      "text/plain": [
       "<Figure size 432x288 with 1 Axes>"
      ]
     },
     "metadata": {},
     "output_type": "display_data"
    },
    {
     "data": {
      "image/png": "[encoded data removed]",
      "text/plain": [
       "<Figure size 432x288 with 1 Axes>"
      ]
     },
     "metadata": {},
     "output_type": "display_data"
    }
   ],
   "source": [
    "# Plot accuracy\n",
    "plt.plot(malstm_trained.history['acc'])\n",
    "plt.plot(malstm_trained.history['val_acc'])\n",
    "plt.title('Model Accuracy')\n",
    "plt.ylabel('Accuracy')\n",
    "plt.xlabel('Epoch')\n",
    "plt.legend(['Train', 'Validation'], loc='upper left')\n",
    "plt.show()\n",
    "\n",
    "# Plot loss\n",
    "plt.plot(malstm_trained.history['loss'])\n",
    "plt.plot(malstm_trained.history['val_loss'])\n",
    "plt.title('Model Loss')\n",
    "plt.ylabel('Loss')\n",
    "plt.xlabel('Epoch')\n",
    "plt.legend(['Train', 'Validation'], loc='upper right')\n",
    "plt.show()"
   ]
  }
 ],
 "metadata": {
  "kernelspec": {
   "display_name": "Python 3",
   "language": "python",
   "name": "python3"
  },
  "language_info": {
   "codemirror_mode": {
    "name": "ipython",
    "version": 3
   },
   "file_extension": ".py",
   "mimetype": "text/x-python",
   "name": "python",
   "nbconvert_exporter": "python",
   "pygments_lexer": "ipython3",
   "version": "3.6.4"
  },
  "toc": {
   "nav_menu": {},
   "number_sections": false,
   "sideBar": true,
   "skip_h1_title": false,
   "title_cell": "Table of Contents",
   "title_sidebar": "Contents",
   "toc_cell": false,
   "toc_position": {},
   "toc_section_display": true,
   "toc_window_display": false
  }
 },
 "nbformat": 4,
 "nbformat_minor": 2
}
